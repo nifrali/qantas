{
 "cells": [
  {
   "cell_type": "code",
   "execution_count": 6,
   "metadata": {},
   "outputs": [
    {
     "name": "stdout",
     "output_type": "stream",
     "text": [
      "root\n",
      " |-- Brand: string (nullable = true)\n",
      " |-- Store Number: string (nullable = true)\n",
      " |-- Store Name: string (nullable = true)\n",
      " |-- Ownership Type: string (nullable = true)\n",
      " |-- Street Address: string (nullable = true)\n",
      " |-- City: string (nullable = true)\n",
      " |-- State/Province: string (nullable = true)\n",
      " |-- Country: string (nullable = true)\n",
      " |-- Postcode: string (nullable = true)\n",
      " |-- Phone Number: string (nullable = true)\n",
      " |-- Timezone: string (nullable = true)\n",
      " |-- Longitude: string (nullable = true)\n",
      " |-- Latitude: string (nullable = true)\n",
      "\n",
      "+---------+------------+----------------+--------------+--------------------+----------------+--------------+-------+--------+------------+--------------------+---------+--------+\n",
      "|    Brand|Store Number|      Store Name|Ownership Type|      Street Address|            City|State/Province|Country|Postcode|Phone Number|            Timezone|Longitude|Latitude|\n",
      "+---------+------------+----------------+--------------+--------------------+----------------+--------------+-------+--------+------------+--------------------+---------+--------+\n",
      "|Starbucks|47370-257954|   Meritxell, 96|      Licensed|   Av. Meritxell, 96|Andorra la Vella|             7|     AD|   AD500|   376818720|GMT+1:00 Europe/A...|     1.53|   42.51|\n",
      "|Starbucks|22331-212325|Ajman Drive Thru|      Licensed|1 Street 69, Al Jarf|           Ajman|            AJ|     AE|    null|        null|GMT+04:00 Asia/Dubai|    55.47|   25.42|\n",
      "|Starbucks|47089-256771|       Dana Mall|      Licensed|Sheikh Khalifa Bi...|           Ajman|            AJ|     AE|    null|        null|GMT+04:00 Asia/Dubai|    55.47|   25.39|\n",
      "|Starbucks|22126-218024|      Twofour 54|      Licensed|     Al Salam Street|       Abu Dhabi|            AZ|     AE|    null|        null|GMT+04:00 Asia/Dubai|    54.38|   24.48|\n",
      "|Starbucks|17127-178586|    Al Ain Tower|      Licensed|Khaldiya Area, Ab...|       Abu Dhabi|            AZ|     AE|    null|        null|GMT+04:00 Asia/Dubai|    54.54|   24.51|\n",
      "+---------+------------+----------------+--------------+--------------------+----------------+--------------+-------+--------+------------+--------------------+---------+--------+\n",
      "only showing top 5 rows\n",
      "\n",
      "25601\n"
     ]
    }
   ],
   "source": [
    "import locator\n",
    "import pyspark\n",
    "from pyspark.sql.functions import udf,col, countDistinct\n",
    "from pyspark.sql.types import StringType,FloatType,DoubleType\n",
    "\n",
    "#Extra input dataset\n",
    "file_location = \"starbucks_store_locator.csv\"\n",
    "file_type = \"csv\"\n",
    "df_starbucks_stores = locator.get_dataset(file_location, file_type, delimiter=\",\")\n",
    "\n",
    "# Exploring the dataset\n",
    "df_starbucks_stores.printSchema()\n",
    "df_starbucks_stores.show(5)\n",
    "\n",
    "#Clean dataset.Removed records with null longitudes/latitudes\n",
    "df_starbucks_stores = df_starbucks_stores.filter((col('Longitude').isNotNull()) | (col('Latitude').isNotNull()))\n",
    "\n",
    "#Convert lat/long values from string to float for easy computation later on\n",
    "df_starbucks_stores = df_starbucks_stores\\\n",
    "                      .withColumn(\"Longitude\", df_starbucks_stores[\"Longitude\"].cast(FloatType()))\\\n",
    "                      .withColumn(\"Latitude\", df_starbucks_stores[\"Latitude\"].cast(FloatType()))\n",
    "\n",
    "#Augment data with country information\n",
    "df_country_info = locator.get_country_info()\n",
    "\n",
    "#Join starbucks data + country info\n",
    "df_starbucks_country_joined = df_starbucks_stores.join(df_country_info,\\\n",
    "        df_starbucks_stores.Country == df_country_info.ALPHA2,how='left')\n",
    "\n",
    "df_with_null_countries = df_starbucks_country_joined.filter(col('ALPHA2').isNull())\n",
    "df_starbucks_stores_with_country_name = df_starbucks_country_joined.filter(col('ALPHA2').isNotNull())\n"
   ]
  },
  {
   "cell_type": "code",
   "execution_count": 7,
   "metadata": {},
   "outputs": [
    {
     "name": "stdout",
     "output_type": "stream",
     "text": [
      "The most isolated Starbucks store in Australia is:\n",
      "\n",
      "Store Name: Mount Druitt\n",
      "Store Number: 25291-240407\n",
      "Nearest Branch: Westmead Childrens Hospital\n",
      "Distance(KM): 16.1\n",
      "\n"
     ]
    }
   ],
   "source": [
    "#1) Which is the most isolated Starbucks store in Australia ?\n",
    "\n",
    "'''\n",
    "Assumptions\n",
    "\n",
    "1. Most Isolated Store/Branch - It means, here which store or branch  has the minimum distance between the next store/branch\n",
    "   is the largest among its all neighbooring stores/branches.\n",
    "2. Null valued longitude/latitude will be removed\n",
    "3. Minimum distance is express in KM\n",
    "4. Assume Earth is elliptical (Using Haversine distance formula)\n",
    "'''\n",
    "import locator\n",
    "isolated = locator.get_most_isolated_store_per_country(df_starbucks_stores_with_country_name,'AU')\n",
    "print('The most isolated Starbucks store in Australia is:\\n')\n",
    "print('Store Name: {}\\nStore Number: {}\\nNearest Branch: {}\\nDistance(KM): {}\\n'\\\n",
    "      .format(isolated['store_name'], isolated['store_number'], isolated['nearest_store'],isolated['nearest_distance_km']))\n"
   ]
  },
  {
   "cell_type": "code",
   "execution_count": 3,
   "metadata": {},
   "outputs": [
    {
     "name": "stdout",
     "output_type": "stream",
     "text": [
      "Countries with least number of Starbucks stores:\n",
      "\n",
      "Name: Andorra\n",
      "Store Counts: 1\n",
      "\n",
      "\n",
      "Name: Niger\n",
      "Store Counts: 1\n",
      "\n"
     ]
    }
   ],
   "source": [
    "#2) Which country has the least number of Starbucks stores ?\n",
    "\n",
    "#get_store_count_per_country(df_starbucks_stores_with_country_name)\n",
    "#get_country_store_count(df_starbucks_stores_with_country_name,'AU')\n",
    "import locator\n",
    "print ('Countries with least number of Starbucks stores:')\n",
    "least_stores = locator.get_countries_with_least_starbucks_stores(df_starbucks_stores_with_country_name)\n",
    "for row in least_stores:\n",
    "    print ('\\nName: {}\\nStore Counts: {}\\n'.format(row.Country_Name,row.Store_Count))"
   ]
  },
  {
   "cell_type": "code",
   "execution_count": 10,
   "metadata": {},
   "outputs": [
    {
     "name": "stdout",
     "output_type": "stream",
     "text": [
      "+---------+------------+--------------------+--------------+--------------------+----------------+--------------+-------+--------+------------+--------------------+---------+--------+------------+------+------+\n",
      "|    Brand|Store Number|          Store Name|Ownership Type|      Street Address|            City|State/Province|Country|Postcode|Phone Number|            Timezone|Longitude|Latitude|Country_Name|ALPHA2|ALPHA3|\n",
      "+---------+------------+--------------------+--------------+--------------------+----------------+--------------+-------+--------+------------+--------------------+---------+--------+------------+------+------+\n",
      "|Starbucks|49778-271255|               Manly|      Licensed|   110-112 The Corso|           Manly|           NSW|     AU|    2095|        null|GMT+10:00 Austral...|   151.29|   -33.8|   Australia|    AU|   AUS|\n",
      "|Starbucks|25291-240407|        Mount Druitt|      Licensed|     Carlisle Avenue|       Mt Druitt|           NSW|     AU|    2770|        null|GMT+10:00 Austral...|   150.82|  -33.77|   Australia|    AU|   AUS|\n",
      "|Starbucks|48100-261428|Westfield Parramatta|      Licensed|Shop 2174, Level ...|      Parramatta|           NSW|     AU|    2150|        null|GMT+10:00 Austral...|    151.0|  -33.82|   Australia|    AU|   AUS|\n",
      "|Starbucks|25277-240391|           Haymarket|      Licensed|730-742 George St...|          Sydney|           NSW|     AU|    2000|        null|GMT+10:00 Austral...|   151.21|  -33.88|   Australia|    AU|   AUS|\n",
      "|Starbucks|25290-240408|Queen Victoria Bu...|      Licensed|455 George Street...|          Sydney|           NSW|     AU|    2000|        null|GMT+10:00 Austral...|   151.21|  -33.87|   Australia|    AU|   AUS|\n",
      "|Starbucks|25296-240405|       Wynyard Green|      Licensed|11-17 York St, Sh...|          Sydney|           NSW|     AU|    2000|        null|GMT+10:00 Austral...|   151.21|  -33.87|   Australia|    AU|   AUS|\n",
      "|Starbucks|25276-240390|           Hyde park|      Licensed|201 Elizabeth Street|          Sydney|           NSW|     AU|    2000|        null|GMT+10:00 Austral...|   151.21|  -33.87|   Australia|    AU|   AUS|\n",
      "|Starbucks|25279-240396|   525 George Street|      Licensed|525 George Street...|          Sydney|           NSW|     AU|    2000|        null|GMT+10:00 Austral...|   151.21|  -33.88|   Australia|    AU|   AUS|\n",
      "|Starbucks|25299-240395|Westmead Children...|      Licensed|Hawkesbury Rd & H...|        Westmead|           NSW|     AU|    2124|        null|GMT+10:00 Austral...|   150.99|   -33.8|   Australia|    AU|   AUS|\n",
      "|Starbucks|25282-240406|        Queens Plaza|      Licensed|226 Queen Street,...|        Brisbane|           QLD|     AU|    4000|        null|GMT+10:00 Austral...|   153.03|  -27.47|   Australia|    AU|   AUS|\n",
      "|Starbucks|25278-240393|         Myer Centre|      Licensed|91 Queen Street, ...|        Brisbane|           QLD|     AU|    4000|        null|GMT+10:00 Austral...|   153.02|  -27.47|   Australia|    AU|   AUS|\n",
      "|Starbucks|25288-240410|          Broadbeach|      Licensed|Surf Parade, Tena...|      Broadbeach|           QLD|     AU|    4218|        null|GMT+10:00 Austral...|   153.43|  -28.03|   Australia|    AU|   AUS|\n",
      "|Starbucks|25287-240411| Westfield Chermside|      Licensed|Cnr Gympie Rd & H...|       Chermside|           QLD|     AU|    4032|        null|GMT+10:00 Austral...|   153.03|  -27.39|   Australia|    AU|   AUS|\n",
      "|Starbucks|25292-240421|       Cavill Avenue|      Licensed|Shops 303 & 304, ...|      Gold Coast|           QLD|     AU|    4217|        null|GMT+10:00 Austral...|   153.43|  -28.01|   Australia|    AU|   AUS|\n",
      "|Starbucks|25285-240413| Chevron Renaissance|      Licensed|Gold Coast Highwa...|Surfers Paradise|           QLD|     AU|    4218|        null|GMT+10:00 Austral...|   153.43|  -28.02|   Australia|    AU|   AUS|\n",
      "|Starbucks|24303-236999|Garden City - Upp...|      Licensed|Westfield Garden ...|Upper Mt Gravatt|           QLD|     AU|    4122|        null|GMT+10:00 Austral...|   153.09|  -27.54|   Australia|    AU|   AUS|\n",
      "|Starbucks|25295-240418|Princess Alexandr...|      Licensed|          Ipswich Rd|    Wooloongabba|           QLD|     AU|    4102|        null|GMT+10:00 Austral...|   153.03|   -27.5|   Australia|    AU|   AUS|\n",
      "|Starbucks|25294-240419|   235 Bourke Street|      Licensed|235-251 Bourke St...|       Melbourne|           VIC|     AU|    3000|        null|GMT+10:00 Austral...|   144.97|  -37.81|   Australia|    AU|   AUS|\n",
      "|Starbucks|25293-240420|  2 Elizabeth Street|      Licensed|2 Elizabeth Stree...|       Melbourne|           VIC|     AU|    3000|        null|GMT+10:00 Austral...|   144.97|  -37.82|   Australia|    AU|   AUS|\n",
      "|Starbucks|25286-240412|  DFO Spencer Street|      Licensed|93-161 Spencer St...|       Melbourne|           VIC|     AU|    3000|        null|GMT+10:00 Austral...|   144.95|  -37.82|   Australia|    AU|   AUS|\n",
      "+---------+------------+--------------------+--------------+--------------------+----------------+--------------+-------+--------+------------+--------------------+---------+--------+------------+------+------+\n",
      "only showing top 20 rows\n",
      "\n",
      "22\n"
     ]
    }
   ],
   "source": [
    "#3) How many stores in Sydney has not updated the \"Phone Number\" in this dataset ?\n",
    "import locator\n",
    "df_starbucks_au = locator.filter_data(df_starbucks_stores_with_country_name, 'Country', 'AU') \n",
    "df_starbucks_au.show()\n",
    "print (df_starbucks_au.count())"
   ]
  },
  {
   "cell_type": "code",
   "execution_count": null,
   "metadata": {},
   "outputs": [],
   "source": []
  }
 ],
 "metadata": {
  "kernelspec": {
   "display_name": "Python 3",
   "language": "python",
   "name": "python3"
  },
  "language_info": {
   "codemirror_mode": {
    "name": "ipython",
    "version": 3
   },
   "file_extension": ".py",
   "mimetype": "text/x-python",
   "name": "python",
   "nbconvert_exporter": "python",
   "pygments_lexer": "ipython3",
   "version": "3.7.4"
  }
 },
 "nbformat": 4,
 "nbformat_minor": 2
}
