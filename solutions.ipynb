{
 "cells": [
  {
   "cell_type": "code",
   "execution_count": 1,
   "metadata": {},
   "outputs": [
    {
     "name": "stdout",
     "output_type": "stream",
     "text": [
      "root\n",
      " |-- Brand: string (nullable = true)\n",
      " |-- Store Number: string (nullable = true)\n",
      " |-- Store Name: string (nullable = true)\n",
      " |-- Ownership Type: string (nullable = true)\n",
      " |-- Street Address: string (nullable = true)\n",
      " |-- City: string (nullable = true)\n",
      " |-- State/Province: string (nullable = true)\n",
      " |-- Country: string (nullable = true)\n",
      " |-- Postcode: string (nullable = true)\n",
      " |-- Phone Number: string (nullable = true)\n",
      " |-- Timezone: string (nullable = true)\n",
      " |-- Longitude: string (nullable = true)\n",
      " |-- Latitude: string (nullable = true)\n",
      "\n",
      "+---------+------------+----------------+--------------+--------------------+----------------+--------------+-------+--------+------------+--------------------+---------+--------+\n",
      "|    Brand|Store Number|      Store Name|Ownership Type|      Street Address|            City|State/Province|Country|Postcode|Phone Number|            Timezone|Longitude|Latitude|\n",
      "+---------+------------+----------------+--------------+--------------------+----------------+--------------+-------+--------+------------+--------------------+---------+--------+\n",
      "|Starbucks|47370-257954|   Meritxell, 96|      Licensed|   Av. Meritxell, 96|Andorra la Vella|             7|     AD|   AD500|   376818720|GMT+1:00 Europe/A...|     1.53|   42.51|\n",
      "|Starbucks|22331-212325|Ajman Drive Thru|      Licensed|1 Street 69, Al Jarf|           Ajman|            AJ|     AE|    null|        null|GMT+04:00 Asia/Dubai|    55.47|   25.42|\n",
      "|Starbucks|47089-256771|       Dana Mall|      Licensed|Sheikh Khalifa Bi...|           Ajman|            AJ|     AE|    null|        null|GMT+04:00 Asia/Dubai|    55.47|   25.39|\n",
      "|Starbucks|22126-218024|      Twofour 54|      Licensed|     Al Salam Street|       Abu Dhabi|            AZ|     AE|    null|        null|GMT+04:00 Asia/Dubai|    54.38|   24.48|\n",
      "|Starbucks|17127-178586|    Al Ain Tower|      Licensed|Khaldiya Area, Ab...|       Abu Dhabi|            AZ|     AE|    null|        null|GMT+04:00 Asia/Dubai|    54.54|   24.51|\n",
      "+---------+------------+----------------+--------------+--------------------+----------------+--------------+-------+--------+------------+--------------------+---------+--------+\n",
      "only showing top 5 rows\n",
      "\n"
     ]
    }
   ],
   "source": [
    "import locator\n",
    "import pyspark\n",
    "from pyspark.sql.functions import udf,col, countDistinct\n",
    "from pyspark.sql.types import StringType,FloatType,DoubleType\n",
    "\n",
    "#Extra input dataset\n",
    "file_location = \"starbucks_store_locator.csv\"\n",
    "file_type = \"csv\"\n",
    "df_starbucks_stores = locator.get_dataset(file_location, file_type, delimiter=\",\")\n",
    "\n",
    "# Exploring the dataset\n",
    "df_starbucks_stores.printSchema()\n",
    "df_starbucks_stores.show(5)\n",
    "\n",
    "#Clean dataset.Removed records with null longitudes/latitudes\n",
    "df_starbucks_stores = df_starbucks_stores.filter((col('Longitude').isNotNull()) | (col('Latitude').isNotNull()))\n",
    "\n",
    "#Convert lat/long values from string to float for easy computation later on\n",
    "df_starbucks_stores = df_starbucks_stores\\\n",
    "                      .withColumn(\"Longitude\", df_starbucks_stores[\"Longitude\"].cast(FloatType()))\\\n",
    "                      .withColumn(\"Latitude\", df_starbucks_stores[\"Latitude\"].cast(FloatType()))\n",
    "\n",
    "#Augment data with country information\n",
    "df_country_info = locator.get_country_info()\n",
    "\n",
    "#Join starbucks data + country info\n",
    "df_starbucks_country_joined = df_starbucks_stores.join(df_country_info,\\\n",
    "        df_starbucks_stores.Country == df_country_info.ALPHA2,how='left')\n",
    "\n",
    "df_with_null_countries = df_starbucks_country_joined.filter(col('ALPHA2').isNull())\n",
    "df_starbucks_stores_with_country_name = df_starbucks_country_joined.filter(col('ALPHA2').isNotNull())\n"
   ]
  },
  {
   "cell_type": "code",
   "execution_count": 2,
   "metadata": {},
   "outputs": [
    {
     "name": "stdout",
     "output_type": "stream",
     "text": [
      "The most isolated Starbucks store in Australia is:\n",
      "\n",
      "Store Name: Mount Druitt\n",
      "Store Number: 25291-240407\n",
      "Nearest Branch: Westmead Childrens Hospital\n",
      "Distance(KM): 16.1\n",
      "\n"
     ]
    }
   ],
   "source": [
    "#1) Which is the most isolated Starbucks store in Australia ?\n",
    "\n",
    "'''\n",
    "Assumptions\n",
    "\n",
    "1. Most Isolated Store/Branch - It means, here which store or branch  has the minimum distance between the next store/branch\n",
    "   is the largest among its all neighbooring stores/branches.\n",
    "2. Null valued longitude/latitude will be removed\n",
    "3. Minimum distance is express in KM\n",
    "4. Assume Earth is elliptical (Using Haversine distance formula)\n",
    "'''\n",
    "import locator\n",
    "isolated = locator.get_most_isolated_store_per_country(df_starbucks_stores_with_country_name,'AU')\n",
    "print('The most isolated Starbucks store in Australia is:\\n')\n",
    "print('Store Name: {}\\nStore Number: {}\\nNearest Branch: {}\\nDistance(KM): {}\\n'\\\n",
    "      .format(isolated['store_name'], isolated['store_number'], isolated['nearest_store'],isolated['nearest_distance_km']))\n"
   ]
  },
  {
   "cell_type": "code",
   "execution_count": 3,
   "metadata": {},
   "outputs": [
    {
     "name": "stdout",
     "output_type": "stream",
     "text": [
      "Countries with least number of Starbucks stores:\n",
      "\n",
      "Name: Andorra\n",
      "Store Counts: 1\n",
      "\n",
      "\n",
      "Name: Niger\n",
      "Store Counts: 1\n",
      "\n"
     ]
    }
   ],
   "source": [
    "#2) Which country has the least number of Starbucks stores ?\n",
    "\n",
    "#get_store_count_per_country(df_starbucks_stores_with_country_name)\n",
    "#get_country_store_count(df_starbucks_stores_with_country_name,'AU')\n",
    "import locator\n",
    "print ('Countries with least number of Starbucks stores:')\n",
    "least_stores = locator.get_countries_with_least_starbucks_stores(df_starbucks_stores_with_country_name)\n",
    "for row in least_stores:\n",
    "    print ('\\nName: {}\\nStore Counts: {}\\n'.format(row.Country_Name,row.Store_Count))"
   ]
  },
  {
   "cell_type": "code",
   "execution_count": 25,
   "metadata": {},
   "outputs": [
    {
     "name": "stdout",
     "output_type": "stream",
     "text": [
      "There are 5 stores in Sydney that had not updated the \"Phone Number\"\n",
      "+------------+--------------------+------+------------+------------+--------------------+------+------------+\n",
      "|Store Number|          Store Name| CityA|PhoneNumberA|Store Number|          Store Name| CityB|PhoneNumberB|\n",
      "+------------+--------------------+------+------------+------------+--------------------+------+------------+\n",
      "|25276-240390|           Hyde park|Sydney|            |25276-240390|           Hyde park|Sydney|            |\n",
      "|25277-240391|           Haymarket|Sydney|            |25277-240391|           Haymarket|Sydney|            |\n",
      "|25279-240396|   525 George Street|Sydney|            |25279-240396|   525 George Street|Sydney|            |\n",
      "|25290-240408|Queen Victoria Bu...|Sydney|            |25290-240408|Queen Victoria Bu...|Sydney|            |\n",
      "|25296-240405|       Wynyard Green|Sydney|            |25296-240405|       Wynyard Green|Sydney|            |\n",
      "+------------+--------------------+------+------------+------------+--------------------+------+------------+\n",
      "\n"
     ]
    }
   ],
   "source": [
    "#3) How many stores in Sydney has not updated the \"Phone Number\" in this dataset ?\n",
    "import locator\n",
    "df_starbucks_au_old = locator.filter_data(df_starbucks_stores_with_country_name, 'Country', 'AU')\n",
    "df_starbucks_au_old = df_starbucks_au_old.fillna({'Phone Number':''})\n",
    "\n",
    "#Assume, we will get new file or updated dataset with phone numbers\n",
    "#In this case, we will just use a replica of the Australian data as an 'updated file'\n",
    "new_file_location = \"au-starbucks.csv\"\n",
    "file_type = \"csv\"\n",
    "df_starbucks_au_new = locator.get_dataset(new_file_location, file_type, delimiter=\",\")\n",
    "df_starbucks_au_new = locator.filter_data(df_starbucks_au_new, 'Country', 'AU')\n",
    "df_starbucks_au_new = df_starbucks_au_new.fillna({'Phone Number':''})\n",
    "\n",
    "#merge two dataset to compare column fields\n",
    "df_starbucks_au_old = df_starbucks_au_old\\\n",
    "    .select(df_starbucks_au_old['Store Number']\n",
    "    ,df_starbucks_au_old['Store Name']\\\n",
    "    ,df_starbucks_au_old['City'].alias('CityA')\\\n",
    "    ,df_starbucks_au_old['Phone Number'].alias('PhoneNumberA'))\\\n",
    "    .orderBy('Store Number')\n",
    "\n",
    "df_starbucks_au_new = df_starbucks_au_new\\\n",
    "    .select(df_starbucks_au_new['Store Number']\\\n",
    "    ,df_starbucks_au_new['Store Name']\\\n",
    "    ,df_starbucks_au_new['City'].alias('CityB')\\\n",
    "    ,df_starbucks_au_new['Phone Number'].alias('PhoneNumberB'))\\\n",
    "    .orderBy('Store Number')\n",
    "\n",
    "df_starbucks_au_merged = locator.merge_dataset(df_starbucks_au_old, df_starbucks_au_new, 'Store Number')\n",
    "df_no_phone_numbers_update_sydney = df_starbucks_au_merged\\\n",
    "    .filter((df_starbucks_au_merged['CityA'] == 'Sydney')\n",
    "    & (df_starbucks_au_merged.PhoneNumberA == df_starbucks_au_merged.PhoneNumberB)) \n",
    "\n",
    "print('There are {} stores in Sydney that had not updated the \"Phone Number\"'\\\n",
    "       .format(df_no_phone_numbers_update_sydney.count()))\n",
    "\n",
    "df_no_phone_numbers_update_sydney.show()\n",
    "\n"
   ]
  },
  {
   "cell_type": "code",
   "execution_count": null,
   "metadata": {},
   "outputs": [],
   "source": []
  }
 ],
 "metadata": {
  "kernelspec": {
   "display_name": "Python 3",
   "language": "python",
   "name": "python3"
  },
  "language_info": {
   "codemirror_mode": {
    "name": "ipython",
    "version": 3
   },
   "file_extension": ".py",
   "mimetype": "text/x-python",
   "name": "python",
   "nbconvert_exporter": "python",
   "pygments_lexer": "ipython3",
   "version": "3.7.4"
  }
 },
 "nbformat": 4,
 "nbformat_minor": 2
}
